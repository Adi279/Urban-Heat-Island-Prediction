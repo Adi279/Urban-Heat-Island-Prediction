{
 "cells": [
  {
   "cell_type": "code",
   "execution_count": 1,
   "id": "782eb586",
   "metadata": {},
   "outputs": [],
   "source": [
    "import pandas as pd\n",
    "import numpy as np\n",
    "from grids import generate_grid"
   ]
  },
  {
   "cell_type": "code",
   "execution_count": 2,
   "id": "213d74bc",
   "metadata": {},
   "outputs": [],
   "source": [
    "df = pd.read_csv(\"Final_Merged_Dataset_with_UHI_Labels.csv\")"
   ]
  },
  {
   "cell_type": "code",
   "execution_count": null,
   "id": "996a7c3a",
   "metadata": {},
   "outputs": [
    {
     "data": {
      "text/html": [
       "\n",
       "            <style>\n",
       "                .geemap-dark {\n",
       "                    --jp-widgets-color: white;\n",
       "                    --jp-widgets-label-color: white;\n",
       "                    --jp-ui-font-color1: white;\n",
       "                    --jp-layout-color2: #454545;\n",
       "                    background-color: #383838;\n",
       "                }\n",
       "\n",
       "                .geemap-dark .jupyter-button {\n",
       "                    --jp-layout-color3: #383838;\n",
       "                }\n",
       "\n",
       "                .geemap-colab {\n",
       "                    background-color: var(--colab-primary-surface-color, white);\n",
       "                }\n",
       "\n",
       "                .geemap-colab .jupyter-button {\n",
       "                    --jp-layout-color3: var(--colab-primary-surface-color, white);\n",
       "                }\n",
       "            </style>\n",
       "            "
      ],
      "text/plain": [
       "<IPython.core.display.HTML object>"
      ]
     },
     "metadata": {},
     "output_type": "display_data"
    },
    {
     "data": {
      "application/vnd.jupyter.widget-view+json": {
       "model_id": "c2ae58d7274e46aa91cc0dc90c84d908",
       "version_major": 2,
       "version_minor": 0
      },
      "text/plain": [
       "Map(center=[18.847, 72.744], controls=(WidgetControl(options=['position', 'transparent_bg'], widget=SearchData…"
      ]
     },
     "execution_count": 19,
     "metadata": {},
     "output_type": "execute_result"
    }
   ],
   "source": [
    "import ee\n",
    "import geemap\n",
    "import numpy as np\n",
    "\n",
    "# Initialize the Earth Engine API\n",
    "ee.Initialize(project='heat-islands')\n",
    "\n",
    "# --- Define grid parameters and fix bounding box ---\n",
    "lat_min, lon_min = 18.847, 72.744\n",
    "lat_step = 5 / 111\n",
    "lon_step = 5 / 102\n",
    "\n",
    "lat_values = np.arange(lat_min, 19.797, lat_step)\n",
    "lon_values = np.arange(lon_min, 73.712, lon_step)\n",
    "\n",
    "lat_max = lat_values[-1] + lat_step\n",
    "lon_max = lon_values[-1] + lon_step\n",
    "\n",
    "# Grid generation for other layers\n",
    "features = []\n",
    "for lat in lat_values:\n",
    "    for lon in lon_values:\n",
    "        box = ee.Geometry.Rectangle([lon, lat, lon + lon_step, lat + lat_step])\n",
    "        feature = ee.Feature(box, {\n",
    "            'lat_center': lat + lat_step / 2,\n",
    "            'lon_center': lon + lon_step / 2\n",
    "        })\n",
    "        features.append(feature)\n",
    "\n",
    "grid_fc = ee.FeatureCollection(features)\n",
    "\n",
    "# Create a simple map centered on Mumbai\n",
    "map_center = [18.847, 72.744]  # Bottom-left of the grid\n",
    "mymap = geemap.Map(center=map_center, zoom=12)\n",
    "\n",
    "# Add the grid points to the map\n",
    "mymap.addLayer(grid_fc.style(color='black', fillColor='00000000', width=1), {}, '5x5 km Grid Boxes')\n",
    "\n",
    "df_subset = df.tail(440)[['Latitude', 'Longitude', 'Cluster', 'UHI_Label']].copy()\n",
    "# 2. Convert DataFrame to a list of ee.Features\n",
    "features_cluster = []\n",
    "for _, row in df_subset.iterrows():\n",
    "    point = ee.Geometry.Point([row['Longitude'], row['Latitude']])\n",
    "    props = {\n",
    "        'Cluster': int(row['Cluster']),\n",
    "        'UHI_Label': row['UHI_Label']\n",
    "    }\n",
    "    features_cluster.append(ee.Feature(point, props))\n",
    "\n",
    "# 3. Create a FeatureCollection\n",
    "fc = ee.FeatureCollection(features_cluster)\n",
    "\n",
    "# 1. Create the color mapping dictionary\n",
    "color_dict = ee.Dictionary({\n",
    "    'Low UHI': 'blue',\n",
    "    'Low-Moderate UHI': 'lightblue',\n",
    "    'Moderate UHI': 'orange',\n",
    "    'Moderate-High UHI': 'red',\n",
    "    'High UHI': 'yellow'\n",
    "})\n",
    "\n",
    "# 2. Define the styling function\n",
    "def uhi_style(feature):\n",
    "    label = feature.get('UHI_Label')\n",
    "    color = color_dict.get(label)\n",
    "    return feature.set('style', {\n",
    "        'color': color,\n",
    "        'fillColor': color,\n",
    "    })\n",
    "\n",
    "# 3. Apply style function\n",
    "styled_fc = fc.map(uhi_style)\n",
    "\n",
    "# 4. Visualize on map\n",
    "mymap.addLayer(styled_fc.style(**{'styleProperty': 'style'}), {}, 'UHI Labels')\n",
    "\n",
    "mymap\n"
   ]
  },
  {
   "cell_type": "code",
   "execution_count": null,
   "id": "03c317d3",
   "metadata": {},
   "outputs": [],
   "source": []
  }
 ],
 "metadata": {
  "kernelspec": {
   "display_name": "Python 3",
   "language": "python",
   "name": "python3"
  },
  "language_info": {
   "codemirror_mode": {
    "name": "ipython",
    "version": 3
   },
   "file_extension": ".py",
   "mimetype": "text/x-python",
   "name": "python",
   "nbconvert_exporter": "python",
   "pygments_lexer": "ipython3",
   "version": "3.12.0"
  }
 },
 "nbformat": 4,
 "nbformat_minor": 5
}
