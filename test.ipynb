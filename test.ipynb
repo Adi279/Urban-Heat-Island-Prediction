{
 "cells": [
  {
   "cell_type": "code",
   "execution_count": 1,
   "id": "b299382e",
   "metadata": {},
   "outputs": [],
   "source": [
    "import numpy as numpy\n",
    "import pandas as pd"
   ]
  },
  {
   "cell_type": "code",
   "execution_count": 2,
   "id": "6d29e78e",
   "metadata": {},
   "outputs": [],
   "source": [
    "lst_ndvi_df = pd.read_csv(\"AREA_LST_with_NDVI.csv\")\n",
    "humidity_df = pd.read_csv(\"AREA_HUMIDITY.csv\")\n",
    "wind_df = pd.read_csv(\"AREA_WIND.csv\")\n",
    "rainfall_df = pd.read_csv(\"AREA_RAINFALL.csv\")"
   ]
  },
  {
   "cell_type": "code",
   "execution_count": 3,
   "id": "4661ad4a",
   "metadata": {},
   "outputs": [
    {
     "name": "stdout",
     "output_type": "stream",
     "text": [
      "  system:index        Date  LST_Celsius   Latitude  Longitude  \\\n",
      "0   20240331_0  2024-03-31  -999.000000  18.869523  72.768510   \n",
      "1   20240331_1  2024-03-31  -999.000000  18.869523  72.817529   \n",
      "2   20240331_2  2024-03-31  -999.000000  18.869523  72.866549   \n",
      "3   20240331_3  2024-03-31  -999.000000  18.869523  72.915569   \n",
      "4   20240331_4  2024-03-31    29.332797  18.869523  72.964588   \n",
      "\n",
      "                                                .geo  grid_number      NDVI  \n",
      "0  {\"type\":\"Point\",\"coordinates\":[72.768509803921...            0 -999.0000  \n",
      "1  {\"type\":\"Point\",\"coordinates\":[72.817529411764...            1 -999.0000  \n",
      "2  {\"type\":\"Point\",\"coordinates\":[72.866549019607...            2 -999.0000  \n",
      "3  {\"type\":\"Point\",\"coordinates\":[72.915568627450...            3 -999.0000  \n",
      "4  {\"type\":\"Point\",\"coordinates\":[72.964588235294...            4    0.2727  \n",
      "  system:index  Air_Temperature_C        Date  Dew_Point_Temperature_C  \\\n",
      "0   20240331_0        -999.000000  2024-03-31              -999.000000   \n",
      "1   20240331_1        -999.000000  2024-03-31              -999.000000   \n",
      "2   20240331_2        -999.000000  2024-03-31              -999.000000   \n",
      "3   20240331_3        -999.000000  2024-03-31              -999.000000   \n",
      "4   20240331_4          29.332797  2024-03-31                20.462059   \n",
      "\n",
      "    Latitude  Longitude  Relative_Humidity_%  \\\n",
      "0  18.869523  72.768510          -999.000000   \n",
      "1  18.869523  72.817529          -999.000000   \n",
      "2  18.869523  72.866549          -999.000000   \n",
      "3  18.869523  72.915569          -999.000000   \n",
      "4  18.869523  72.964588            58.861838   \n",
      "\n",
      "                                                .geo  \n",
      "0  {\"type\":\"Point\",\"coordinates\":[72.768509803921...  \n",
      "1  {\"type\":\"Point\",\"coordinates\":[72.817529411764...  \n",
      "2  {\"type\":\"Point\",\"coordinates\":[72.866549019607...  \n",
      "3  {\"type\":\"Point\",\"coordinates\":[72.915568627450...  \n",
      "4  {\"type\":\"Point\",\"coordinates\":[72.964588235294...  \n",
      "  system:index  WindDirection   WindSpeed  \\\n",
      "0   20240331_0    -999.000000 -999.000000   \n",
      "1   20240331_1    -999.000000 -999.000000   \n",
      "2   20240331_2    -999.000000 -999.000000   \n",
      "3   20240331_3    -999.000000 -999.000000   \n",
      "4   20240331_4     153.207692    3.425447   \n",
      "\n",
      "                                                .geo  \n",
      "0  {\"type\":\"Point\",\"coordinates\":[72.768509803921...  \n",
      "1  {\"type\":\"Point\",\"coordinates\":[72.817529411764...  \n",
      "2  {\"type\":\"Point\",\"coordinates\":[72.866549019607...  \n",
      "3  {\"type\":\"Point\",\"coordinates\":[72.915568627450...  \n",
      "4  {\"type\":\"Point\",\"coordinates\":[72.964588235294...  \n",
      "  system:index  Rainfall_mm                                               .geo\n",
      "0   20240331_0  -999.000000  {\"type\":\"Point\",\"coordinates\":[72.768509803921...\n",
      "1   20240331_1  -999.000000  {\"type\":\"Point\",\"coordinates\":[72.817529411764...\n",
      "2   20240331_2  -999.000000  {\"type\":\"Point\",\"coordinates\":[72.866549019607...\n",
      "3   20240331_3  -999.000000  {\"type\":\"Point\",\"coordinates\":[72.915568627450...\n",
      "4   20240331_4     0.000855  {\"type\":\"Point\",\"coordinates\":[72.964588235294...\n"
     ]
    }
   ],
   "source": [
    "print(lst_ndvi_df.head())\n",
    "print(humidity_df.head())\n",
    "print(wind_df.head())\n",
    "print(rainfall_df.head())"
   ]
  },
  {
   "cell_type": "code",
   "execution_count": 3,
   "id": "a372db9f",
   "metadata": {},
   "outputs": [],
   "source": [
    "lst_ndvi_df = lst_ndvi_df[['system:index','Date','Latitude','Longitude','LST_Celsius','NDVI']]\n",
    "humidity_df = humidity_df[['system:index','Air_Temperature_C','Dew_Point_Temperature_C','Relative_Humidity_%']]\n",
    "wind_df = wind_df[['system:index','WindDirection','WindSpeed']]\n",
    "rainfall_df = rainfall_df[['system:index','Rainfall_mm']]"
   ]
  },
  {
   "cell_type": "code",
   "execution_count": 5,
   "id": "24da1734",
   "metadata": {},
   "outputs": [],
   "source": [
    "final_df = lst_ndvi_df.merge(humidity_df, on=['system:index'], how='left')\n",
    "final_df = final_df.merge(wind_df,on=['system:index'], how='left')\n",
    "final_df = final_df.merge(rainfall_df, on=['system:index'], how='left')"
   ]
  },
  {
   "cell_type": "code",
   "execution_count": 7,
   "id": "cd603452",
   "metadata": {},
   "outputs": [],
   "source": [
    "final_df.to_csv(\"Final_Merged_Dataset.csv\",index=False)"
   ]
  },
  {
   "cell_type": "code",
   "execution_count": null,
   "id": "c6c27dcc",
   "metadata": {},
   "outputs": [],
   "source": []
  }
 ],
 "metadata": {
  "kernelspec": {
   "display_name": "Python 3",
   "language": "python",
   "name": "python3"
  },
  "language_info": {
   "codemirror_mode": {
    "name": "ipython",
    "version": 3
   },
   "file_extension": ".py",
   "mimetype": "text/x-python",
   "name": "python",
   "nbconvert_exporter": "python",
   "pygments_lexer": "ipython3",
   "version": "3.12.0"
  }
 },
 "nbformat": 4,
 "nbformat_minor": 5
}
